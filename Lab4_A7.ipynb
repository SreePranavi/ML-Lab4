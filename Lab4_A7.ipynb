{
  "nbformat": 4,
  "nbformat_minor": 0,
  "metadata": {
    "colab": {
      "provenance": []
    },
    "kernelspec": {
      "name": "python3",
      "display_name": "Python 3"
    },
    "language_info": {
      "name": "python"
    }
  },
  "cells": [
    {
      "cell_type": "code",
      "source": [
        "import numpy as np\n",
        "import pandas as pd\n",
        "from sklearn.feature_extraction.text import TfidfVectorizer\n",
        "from sklearn.neighbors import KNeighborsClassifier\n",
        "from sklearn.model_selection import train_test_split, GridSearchCV\n",
        "from sklearn.preprocessing import StandardScaler\n",
        "from sklearn.metrics import accuracy_score\n",
        "\n",
        "def load_and_prepare_data():\n",
        "    \"\"\"Load the dataset and prepare features and labels.\"\"\"\n",
        "    df = pd.read_excel('Book1.xlsx')\n",
        "    X = df[['ENGLISH', 'HINDI']]\n",
        "    num_samples = len(X)\n",
        "\n",
        "    # Create labels, ensuring the length matches with features\n",
        "    y = np.array([0] * (num_samples // 2) + [1] * (num_samples - num_samples // 2))\n",
        "    np.random.shuffle(y)\n",
        "\n",
        "    assert len(X) == len(y), \"Mismatch between features and labels length\"\n",
        "    return X, y\n",
        "\n",
        "def preprocess_data(X):\n",
        "    \"\"\"Convert text data to TF-IDF features and combine.\"\"\"\n",
        "    vectorizer_english = TfidfVectorizer()\n",
        "    vectorizer_hindi = TfidfVectorizer()\n",
        "\n",
        "    X_english = vectorizer_english.fit_transform(X['ENGLISH']).toarray()\n",
        "    X_hindi = vectorizer_hindi.fit_transform(X['HINDI']).toarray()\n",
        "\n",
        "    # Combine English and Hindi TF-IDF features\n",
        "    X_combined = np.hstack((X_english, X_hindi))\n",
        "    return X_combined\n",
        "\n",
        "def find_best_k(X_train, y_train):\n",
        "    \"\"\"Use GridSearchCV to find the best k value for KNN.\"\"\"\n",
        "    param_grid = {'n_neighbors': range(1, 21)}\n",
        "    grid_search = GridSearchCV(KNeighborsClassifier(), param_grid, cv=5, scoring='accuracy')\n",
        "    grid_search.fit(X_train, y_train)\n",
        "    return grid_search.best_params_['n_neighbors']\n",
        "\n",
        "def classify_and_evaluate(X_train, y_train, X_test, y_test, best_k):\n",
        "    \"\"\"Classify using the best k and evaluate performance.\"\"\"\n",
        "    scaler = StandardScaler()\n",
        "    X_train_scaled = scaler.fit_transform(X_train)\n",
        "    X_test_scaled = scaler.transform(X_test)\n",
        "\n",
        "    model = KNeighborsClassifier(n_neighbors=best_k)\n",
        "    model.fit(X_train_scaled, y_train)\n",
        "    y_pred = model.predict(X_test_scaled)\n",
        "\n",
        "    accuracy = accuracy_score(y_test, y_pred)\n",
        "    print(f\"Accuracy with k={best_k}: {accuracy:.2f}\")\n",
        "\n",
        "def main():\n",
        "    # Load and preprocess data\n",
        "    X, y = load_and_prepare_data()\n",
        "    X_vectorized = preprocess_data(X)\n",
        "\n",
        "    # Split data into training and test sets\n",
        "    X_train, X_test, y_train, y_test = train_test_split(X_vectorized, y, test_size=0.2, random_state=42)\n",
        "\n",
        "    # Find the best k value\n",
        "    best_k = find_best_k(X_train, y_train)\n",
        "    print(f\"The best k value is: {best_k}\")\n",
        "\n",
        "    # Classify and evaluate test data with the best k value\n",
        "    classify_and_evaluate(X_train, y_train, X_test, y_test, best_k)\n",
        "\n",
        "if __name__ == \"__main__\":\n",
        "    main()\n"
      ],
      "metadata": {
        "colab": {
          "base_uri": "https://localhost:8080/"
        },
        "id": "PHVwGQfKzQnA",
        "outputId": "373303f8-4db3-4990-e714-14dd5543b952"
      },
      "execution_count": 17,
      "outputs": [
        {
          "output_type": "stream",
          "name": "stdout",
          "text": [
            "The best k value is: 11\n",
            "Accuracy with k=11: 0.51\n"
          ]
        }
      ]
    }
  ]
}