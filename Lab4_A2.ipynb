{
  "nbformat": 4,
  "nbformat_minor": 0,
  "metadata": {
    "colab": {
      "provenance": []
    },
    "kernelspec": {
      "name": "python3",
      "display_name": "Python 3"
    },
    "language_info": {
      "name": "python"
    }
  },
  "cells": [
    {
      "cell_type": "code",
      "source": [
        "import pandas as pd\n",
        "from sklearn.metrics import mean_squared_error, mean_absolute_percentage_error, r2_score\n",
        "import numpy as np\n",
        "\n",
        "def load_all_sheets(file_path):\n",
        "    return pd.read_excel(file_path, sheet_name=None)\n",
        "\n",
        "def find_irctc_sheet(all_sheets):\n",
        "    for sheet_name, df in all_sheets.items():\n",
        "        if 'IRCTC Stock Price' in sheet_name or 'Price' in df.columns:\n",
        "            return df\n",
        "    return None\n",
        "\n",
        "def calculate_mse(y_true, y_pred):\n",
        "    return mean_squared_error(y_true, y_pred)\n",
        "\n",
        "def calculate_rmse(y_true, y_pred):\n",
        "    mse = calculate_mse(y_true, y_pred)\n",
        "    return np.sqrt(mse)\n",
        "\n",
        "def calculate_mape(y_true, y_pred):\n",
        "    return mean_absolute_percentage_error(y_true, y_pred)\n",
        "\n",
        "def calculate_r2(y_true, y_pred):\n",
        "    return r2_score(y_true, y_pred)\n",
        "\n",
        "def main():\n",
        "    # Load the data from all sheets\n",
        "    file_path = '/content/Lab Session Data.xlsx'\n",
        "    all_sheets = load_all_sheets(file_path)\n",
        "\n",
        "    # Find the IRCTC sheet\n",
        "    irctc_data = find_irctc_sheet(all_sheets)\n",
        "\n",
        "    if irctc_data is None:\n",
        "        print(\"IRCTC stock price data not found.\")\n",
        "        return\n",
        "\n",
        "    # Assume 'Price' is the actual value and 'Predicted' is a column with your predictions\n",
        "    y_true = irctc_data['Price']\n",
        "\n",
        "    # For demonstration purposes, let's assume a simple prediction model\n",
        "    y_pred = y_true * 0.99\n",
        "\n",
        "    # Calculate metrics\n",
        "    mse = calculate_mse(y_true, y_pred)\n",
        "    rmse = calculate_rmse(y_true, y_pred)\n",
        "    mape = calculate_mape(y_true, y_pred)\n",
        "    r2 = calculate_r2(y_true, y_pred)\n",
        "\n",
        "    # Print the results\n",
        "    print(f\"MSE: {mse}\")\n",
        "    print(f\"RMSE: {rmse}\")\n",
        "    print(f\"MAPE: {mape}\")\n",
        "    print(f\"R²: {r2}\")\n",
        "\n",
        "if __name__ == \"__main__\":\n",
        "    main()\n"
      ],
      "metadata": {
        "colab": {
          "base_uri": "https://localhost:8080/"
        },
        "id": "07odS4bgCm0j",
        "outputId": "1deec820-f328-427e-cea9-3e9af9e46929"
      },
      "execution_count": 3,
      "outputs": [
        {
          "output_type": "stream",
          "name": "stdout",
          "text": [
            "MSE: 249.41669084738984\n",
            "RMSE: 15.792931673612403\n",
            "MAPE: 0.010000000000000005\n",
            "R²: 0.9957362111706666\n"
          ]
        }
      ]
    }
  ]
}